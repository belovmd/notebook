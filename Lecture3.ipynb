{
 "cells": [
  {
   "cell_type": "markdown",
   "metadata": {
    "nbpresent": {
     "id": "df8870a0-8623-4ea5-b708-9885ea8fb981"
    }
   },
   "source": [
    "## Threading and multiprocessing"
   ]
  },
  {
   "cell_type": "markdown",
   "metadata": {
    "nbpresent": {
     "id": "1708b3ff-b1eb-46ac-a4ec-90e4e29a444a"
    }
   },
   "source": [
    "### Threading\n",
    "#### Pros\n",
    "* Shared memory - makes access to state from another context easier\n",
    "* Lightweight - low memory footprint\n",
    "* Allows you to easily make responsive UIs\n",
    "* cPython C extension modules that properly release the GIL will run in parallel\n",
    "* Great option for I/O-bound applications\n",
    "\n",
    "#### Cons\n",
    "* cPython - subject to the GIL\n",
    "* Not interruptible/killable\n",
    "* If not following a command queue/message pump model (using the Queue module), then manual use of synchronization primitives become a necessity (decisions are needed for the granularity of locking)\n",
    "* Code is usually harder to understand and to get right - the potential for race conditions increases dramatically\n"
   ]
  },
  {
   "cell_type": "markdown",
   "metadata": {
    "nbpresent": {
     "id": "69b2be30-94b9-45c1-971e-5a99ab0657b6"
    }
   },
   "source": [
    "### Multiprocessing\n",
    "\n",
    "#### Pros\n",
    "* Separate memory space\n",
    "* Code is usually straightforward\n",
    "* Takes advantage of multiple CPUs & cores\n",
    "* Avoids GIL limitations for cPython\n",
    "* Eliminates most needs for synchronization primitives unless if you use shared memory (instead, it's more of a communication model for IPC)\n",
    "* Child processes are interruptible/killable\n",
    "* Python multiprocessing module includes useful abstractions with an interface much like threading.Thread\n",
    "* A must with cPython for CPU-bound processing\n",
    "\n",
    "#### Cons\n",
    "* IPC a little more complicated with more overhead (communication model vs. shared memory/objects)\n",
    "* Larger memory footprint\n"
   ]
  },
  {
   "cell_type": "code",
   "execution_count": 24,
   "metadata": {
    "nbpresent": {
     "id": "5d265cbf-2b1b-4670-916b-103433ba82c0"
    }
   },
   "outputs": [
    {
     "name": "stdout",
     "output_type": "stream",
     "text": [
      "Thread-1: Tue Sep  4 16:44:50 2018\n",
      "Thread-2: Tue Sep  4 16:44:52 2018\n",
      "Thread-1: Tue Sep  4 16:44:52 2018\n",
      "Thread-1: Tue Sep  4 16:44:54 2018\n",
      "Thread-2: Tue Sep  4 16:44:56 2018\n",
      "Thread-1: Tue Sep  4 16:44:56 2018\n",
      "Thread-1: Tue Sep  4 16:44:58 2018\n",
      "Thread-2: Tue Sep  4 16:45:00 2018\n",
      "Thread-2: Tue Sep  4 16:45:04 2018\n"
     ]
    }
   ],
   "source": [
    "import time\n",
    "from threading import Thread\n",
    "\n",
    "def print_time(thread_name, delay):\n",
    "    count = 0\n",
    "    while count < 5:\n",
    "        time.sleep(delay)\n",
    "        count += 1\n",
    "        print(\"%s: %s\" % (thread_name, time.ctime(time.time())))\n",
    "\n",
    "if __name__ == '__main__':\n",
    "    # Create two threads as follows\n",
    "    t1 = Thread(target=print_time, args=(\"Thread-1\", 2, ))\n",
    "    t2 = Thread(target=print_time, args=(\"Thread-2\", 4, ))\n",
    "    t1.start()\n",
    "    t2.start()"
   ]
  },
  {
   "cell_type": "code",
   "execution_count": 16,
   "metadata": {
    "nbpresent": {
     "id": "60e2ce4d-b320-479c-9b8f-e4de64194ced"
    }
   },
   "outputs": [
    {
     "name": "stdout",
     "output_type": "stream",
     "text": [
      "Starting Thread-1\n",
      "Starting Thread-2\n",
      "Exiting Main Thread\n",
      "Thread-1: Tue Sep  4 16:41:41 2018\n",
      "Thread-1: Tue Sep  4 16:41:42 2018\n",
      "Thread-2: Tue Sep  4 16:41:42 2018\n",
      "Thread-1: Tue Sep  4 16:41:43 2018\n",
      "Thread-1: Tue Sep  4 16:41:44 2018\n",
      "Thread-2: Tue Sep  4 16:41:44 2018\n",
      "Thread-1: Tue Sep  4 16:41:45 2018\n",
      "Exiting Thread-1\n",
      "Thread-2: Tue Sep  4 16:41:46 2018\n",
      "Thread-2: Tue Sep  4 16:41:48 2018\n",
      "Thread-2: Tue Sep  4 16:41:50 2018\n",
      "Exiting Thread-2\n"
     ]
    }
   ],
   "source": [
    "import threading\n",
    "import time\n",
    "\n",
    "class MyThread(threading.Thread):\n",
    "    def __init__(self, name, counter):\n",
    "        threading.Thread.__init__(self)\n",
    "        self.name = name\n",
    "        self.counter = counter\n",
    "\n",
    "    def run(self):\n",
    "        print(\"Starting \" + self.name)\n",
    "        print_time(self.name, self.counter, 5)\n",
    "        print(\"Exiting \" + self.name)\n",
    "\n",
    "def print_time(thread_name, delay, counter):\n",
    "    while counter:\n",
    "        time.sleep(delay)\n",
    "        print(\"%s: %s\" % (thread_name, time.ctime(time.time())))\n",
    "        counter -= 1\n",
    "\n",
    "        \n",
    "# Create new threads\n",
    "thread1 = MyThread(\"Thread-1\", 1)\n",
    "thread2 = MyThread(\"Thread-2\", 2)\n",
    "\n",
    "# Start new Threads\n",
    "thread1.start()\n",
    "thread2.start()\n",
    "\n",
    "print(\"Exiting Main Thread\")"
   ]
  },
  {
   "cell_type": "markdown",
   "metadata": {
    "collapsed": true,
    "nbpresent": {
     "id": "0c2a77a8-b5b3-4cfd-9b6b-5b1729b98c11"
    }
   },
   "source": [
    "### Syncronization\n",
    "The threading module provided with Python includes a simple-to-implement locking mechanism that will allow you to synchronize threads. A new lock is created by calling the ```Lock()``` method, which returns the new lock.\n",
    "\n",
    "The ```acquire``` (blocking) method of the new lock object would be used to force threads to run synchronously. The optional blocking parameter enables you to control whether the thread will wait to acquire the lock.\n",
    "\n",
    "If blocking is set to 0, the thread will return immediately with a 0 value if the lock cannot be acquired and with a 1 if the lock was acquired. If blocking is set to 1, the thread will block and wait for the lock to be released.\n",
    "The ```release()``` method of the new lock object would be used to release the lock when it is no longer required.\n"
   ]
  },
  {
   "cell_type": "code",
   "execution_count": 17,
   "metadata": {
    "nbpresent": {
     "id": "f3a168c0-a5d4-4808-b80a-e6aa86d15081"
    }
   },
   "outputs": [
    {
     "name": "stdout",
     "output_type": "stream",
     "text": [
      "Starting Thread-1\n",
      "Starting Thread-2\n",
      "Thread-1: Tue Sep  4 16:42:03 2018\n",
      "Thread-1: Tue Sep  4 16:42:04 2018\n",
      "Thread-1: Tue Sep  4 16:42:05 2018\n",
      "Thread-2: Tue Sep  4 16:42:07 2018\n",
      "Thread-2: Tue Sep  4 16:42:09 2018\n",
      "Thread-2: Tue Sep  4 16:42:11 2018\n",
      "Exiting Main Thread\n"
     ]
    }
   ],
   "source": [
    "import threading\n",
    "import time\n",
    "\n",
    "class MyThread (threading.Thread):\n",
    "    \n",
    "    thread_lock = threading.Lock()\n",
    "\n",
    "    def __init__(self, name, counter):\n",
    "        threading.Thread.__init__(self)\n",
    "        self.name = name\n",
    "        self.counter = counter\n",
    "\n",
    "    def run(self):\n",
    "        print(\"Starting \" + self.name)\n",
    "        # Get lock to synchronize threads\n",
    "        MyThread.thread_lock.acquire()\n",
    "        print_time(self.name, self.counter, 3)\n",
    "        # Free lock to release next thread\n",
    "        MyThread.thread_lock.release()\n",
    "\n",
    "def print_time(thread_name, delay, counter):\n",
    "    while counter:\n",
    "        time.sleep(delay)\n",
    "        print(\"%s: %s\" % (thread_name, time.ctime(time.time())))\n",
    "        counter -= 1\n",
    "        \n",
    "        \n",
    "# Create new threads\n",
    "threads = (MyThread(\"Thread-1\", 1), \n",
    "           MyThread(\"Thread-2\", 2))\n",
    "\n",
    "# Start all threads\n",
    "for x in threads: \n",
    "    x.start()\n",
    "\n",
    "# Start and wait for all threads to complete\n",
    "for x in threads:\n",
    "    x.join()\n",
    "\n",
    "print(\"Exiting Main Thread\")        "
   ]
  },
  {
   "cell_type": "markdown",
   "metadata": {
    "nbpresent": {
     "id": "df4c742d-bf0a-4a43-8a4d-3778a6609341"
    }
   },
   "source": [
    "**```RLock```** - a reentrant lock is a synchronization primitive that may be acquired multiple times by the same thread. Internally, it uses the concepts of “owning thread” and “recursion level” in addition to the locked/unlocked state used by primitive locks. In the locked state, some thread owns the lock; in the unlocked state, no thread owns it.\n",
    "\n",
    "Also Locks, RLocks, Semaphores, Conditions can be used **context managers** 'with':"
   ]
  },
  {
   "cell_type": "code",
   "execution_count": 25,
   "metadata": {
    "nbpresent": {
     "id": "86c722b6-a67f-4e4e-b8f8-ca4f0470240f"
    }
   },
   "outputs": [
    {
     "name": "stdout",
     "output_type": "stream",
     "text": [
      "Starting Thread-1\n",
      "Starting Thread-2\n",
      "Thread-2: Tue Sep  4 16:45:08 2018\n",
      "Thread-1: Tue Sep  4 16:45:08 2018\n",
      "Thread-1: Tue Sep  4 16:45:09 2018\n",
      "Thread-1: Tue Sep  4 16:45:10 2018\n",
      "Thread-2: Tue Sep  4 16:45:13 2018\n",
      "Thread-2: Tue Sep  4 16:45:15 2018\n",
      "Thread-2: Tue Sep  4 16:45:17 2018\n",
      "Exiting Main Thread\n"
     ]
    }
   ],
   "source": [
    "import threading\n",
    "import time\n",
    "\n",
    "class MyThread (threading.Thread):\n",
    "    \n",
    "    thread_lock = threading.Lock()\n",
    "\n",
    "    def __init__(self, name, counter):\n",
    "        threading.Thread.__init__(self)\n",
    "        self.name = name\n",
    "        self.counter = counter\n",
    "\n",
    "    def run(self):\n",
    "        print(\"Starting \" + self.name)\n",
    "        # Get lock to synchronize threads\n",
    "        with MyThread.thread_lock: # acquire and release\n",
    "            print_time(self.name, self.counter, 3)\n",
    "\n",
    "def print_time(thread_name, delay, counter):\n",
    "    while counter:\n",
    "        time.sleep(delay)\n",
    "        print(\"%s: %s\" % (thread_name, time.ctime(time.time())))\n",
    "        counter -= 1\n",
    "        \n",
    "# Create new threads\n",
    "threads = (MyThread(\"Thread-1\", 1), \n",
    "           MyThread(\"Thread-2\", 2))\n",
    "\n",
    "# Start all threads\n",
    "for x in threads: \n",
    "    x.start()\n",
    "\n",
    "# Start and wait for all threads to complete\n",
    "for x in threads:\n",
    "    x.join()\n",
    "\n",
    "print(\"Exiting Main Thread\")        "
   ]
  },
  {
   "cell_type": "markdown",
   "metadata": {
    "nbpresent": {
     "id": "8430d4d1-b15b-44f7-8aab-12a22f391ca5"
    }
   },
   "source": [
    "### Condition\n",
    "\n",
    "A condition variable is always associated with some kind of lock; this can be passed in or one will be created by default. (Passing one in is useful when several condition variables must share the same lock.)\n",
    "\n",
    "A condition variable has ```acquire()``` and ```release()``` methods that call the corresponding methods of the associated lock. It also has a ```wait()``` method, and ```notify()``` and ```notifyAll()``` methods. These three must only be called when the calling thread has acquired the lock.\n",
    "\n"
   ]
  },
  {
   "cell_type": "code",
   "execution_count": 5,
   "metadata": {
    "nbpresent": {
     "id": "73da26be-b5c3-4fd5-b2ac-e363eabc5978"
    }
   },
   "outputs": [
    {
     "name": "stdout",
     "output_type": "stream",
     "text": [
      "Consumer thread started ...\n",
      "Consumer waiting ...\n",
      "Thread-2: Tue Sep  4 19:21:00 2018\n",
      "Consumer thread started ...\n",
      "Consumer waiting ...\n",
      "Producer thread started ...\n",
      "Making resource available\n",
      "Notifying to all consumers\n",
      "Consumer consumed the resource\n",
      "Consumer consumed the resource\n"
     ]
    }
   ],
   "source": [
    "import threading\n",
    "import time\n",
    "\n",
    "def consumer(cv):\n",
    "    print(\"Consumer thread started ...\")\n",
    "    with cv:\n",
    "        print('Consumer waiting ...')\n",
    "        cv.wait()\n",
    "        print('Consumer consumed the resource')\n",
    "\n",
    "def producer(cv):\n",
    "    print('Producer thread started ...')\n",
    "    with cv:\n",
    "        print('Making resource available')\n",
    "        print('Notifying to all consumers')\n",
    "        cv.notifyAll()\n",
    "\n",
    "\n",
    "condition = threading.Condition()\n",
    "cs1 = threading.Thread(name='consumer1', target=consumer, args=(condition,))\n",
    "cs2 = threading.Thread(name='consumer2', target=consumer, args=(condition,))\n",
    "pd = threading.Thread(name='producer', target=producer, args=(condition,))\n",
    "\n",
    "cs1.start()\n",
    "time.sleep(2)\n",
    "cs2.start()\n",
    "time.sleep(2)\n",
    "pd.start()        "
   ]
  },
  {
   "cell_type": "markdown",
   "metadata": {
    "nbpresent": {
     "id": "a33fc586-ca03-4cc1-86eb-2c5836964bc7"
    }
   },
   "source": [
    "### Semaphores\n",
    "\n",
    "A semaphore manages an internal counter which is decremented by each ```acquire()``` call and incremented by each ```release()``` call. The counter can never go below zero; when ```acquire()``` finds that it is zero, it blocks, waiting until some other thread calls ```release()```."
   ]
  },
  {
   "cell_type": "code",
   "execution_count": 6,
   "metadata": {
    "nbpresent": {
     "id": "88ae403a-4d87-4e1d-ac9f-26b3e35d1ad9"
    }
   },
   "outputs": [
    {
     "name": "stdout",
     "output_type": "stream",
     "text": [
      "Writer thread started ...\n",
      "Writer thread prints Hello\n",
      "Reader thread started ...\n",
      "Reader read Hello\n",
      "Writer thread prints world\n",
      "Reader read world\n"
     ]
    }
   ],
   "source": [
    "import threading\n",
    "import time\n",
    "\n",
    "shared_list = []\n",
    "\n",
    "def writer(ws, rs):\n",
    "    print('Writer thread started ...')\n",
    "    phrase = \"Hello world\"\n",
    "    for word in phrase.split():\n",
    "        ws.acquire()\n",
    "        print('Writer thread prints', word)\n",
    "        shared_list.append(word)\n",
    "        rs.release()\n",
    "    rs.release()\n",
    "    \n",
    "def reader(ws, rs):\n",
    "    print('Reader thread started ...')\n",
    "    while 1:\n",
    "        rs.acquire()\n",
    "        if not shared_list:\n",
    "            break\n",
    "        word = shared_list.pop()\n",
    "        print('Reader read', word)\n",
    "        ws.release()\n",
    "        \n",
    "\n",
    "write_sem = threading.Semaphore(1)\n",
    "read_sem = threading.Semaphore(0)\n",
    "wr = threading.Thread(name='writer', target=writer, args=(write_sem, read_sem))\n",
    "rd = threading.Thread(name='reader', target=reader, args=(write_sem, read_sem))\n",
    "wr.start()\n",
    "time.sleep(2)\n",
    "rd.start()"
   ]
  },
  {
   "cell_type": "markdown",
   "metadata": {
    "nbpresent": {
     "id": "2c2f05a7-ea4a-4164-afbb-b01f261aca27"
    }
   },
   "source": [
    "### Event\n",
    "\n",
    "This is one of the simplest mechanisms for communication between threads: one thread signals an event and other threads wait for it.\n",
    "\n",
    "An event object manages an internal flag that can be set to true with the ```set()``` method and reset to false with the ```clear()``` method. The ```wait()``` method blocks until the flag is true."
   ]
  },
  {
   "cell_type": "code",
   "execution_count": 7,
   "metadata": {
    "nbpresent": {
     "id": "7ea10b83-137f-4f45-aeb9-b102df80bf85"
    }
   },
   "outputs": [
    {
     "name": "stdout",
     "output_type": "stream",
     "text": [
      "Waiting ...\n",
      "Waiting ...\n",
      "Waiting ...\n",
      "FooBar\n"
     ]
    }
   ],
   "source": [
    "import threading\n",
    "import time\n",
    "\n",
    "\n",
    "def foo(ev):\n",
    "    print('Foo', end='')\n",
    "    ev.set()\n",
    "\n",
    "\n",
    "def bar(ev):\n",
    "    while not ev.is_set():\n",
    "        print('Waiting ...')\n",
    "        ev.wait(1)\n",
    "    print('Bar')\n",
    "\n",
    "\n",
    "print_event = threading.Event()\n",
    " \n",
    "ft = threading.Thread(name='foo', target=foo, args=(print_event,))\n",
    "bt = threading.Thread(name='bar', target=bar, args=(print_event,))\n",
    "bt.start()\n",
    "time.sleep(3)\n",
    "ft.start()"
   ]
  },
  {
   "cell_type": "markdown",
   "metadata": {
    "nbpresent": {
     "id": "5c8ccc41-a995-4933-9d0f-af2bf0906c5b"
    }
   },
   "source": [
    "### Timer\n",
    "\n",
    "This class represents an action that should be run only after a certain amount of time has passed — a timer. Timer is a subclass of Thread and as such also functions as an example of creating custom threads.\n",
    "\n",
    "Timers are started, as with threads, by calling their ```start()``` method. The timer can be stopped (before its action has begun) by calling the ```cancel()``` method. The interval the timer will wait before executing its action may not be exactly the same as the interval specified by the user."
   ]
  },
  {
   "cell_type": "code",
   "execution_count": 23,
   "metadata": {
    "nbpresent": {
     "id": "fa69e9db-bcfa-4a17-bc25-48d615ffa528"
    }
   },
   "outputs": [
    {
     "name": "stdout",
     "output_type": "stream",
     "text": [
      "hello, world\n"
     ]
    }
   ],
   "source": [
    "from threading import Timer\n",
    "\n",
    "\n",
    "def hello():\n",
    "    print(\"hello, world\")\n",
    "\n",
    "\n",
    "t = Timer(5, hello)\n",
    "t.start()"
   ]
  },
  {
   "cell_type": "markdown",
   "metadata": {},
   "source": [
    "### Barrier\n",
    "\n",
    "New in version 3.2.\n",
    "\n",
    "This class provides a simple synchronization primitive for use by a fixed number of threads that need to wait for each other. Each of the threads tries to pass the barrier by calling the ```wait()``` method and will block until all of the threads have made their ```wait()``` calls. At this point, the threads are released simultaneously.\n",
    "\n",
    "The barrier can be reused any number of times for the same number of threads."
   ]
  },
  {
   "cell_type": "code",
   "execution_count": 22,
   "metadata": {},
   "outputs": [
    {
     "name": "stdout",
     "output_type": "stream",
     "text": [
      "Ready: 0\n",
      "Ready: 1\n",
      "Ready: 2\n",
      "Ready: 3\n",
      "Ready: 4\n",
      "Ready: 5\n",
      "Ready: 6\n",
      "Run\n",
      "Run\n",
      "Run\n",
      "Run\n",
      "Run\n",
      "Run\n",
      "Run\n",
      "Ready: 0\n",
      "Ready: 0\n",
      "Ready: 0\n"
     ]
    }
   ],
   "source": [
    "import time\n",
    "from threading import Barrier, Thread\n",
    "\n",
    "def runner():\n",
    "    b.wait()\n",
    "    print(\"Run\")\n",
    "\n",
    "def commentator():\n",
    "    for _ in range(10):\n",
    "        print(\"Ready:\", b.n_waiting)\n",
    "        time.sleep(1)\n",
    "\n",
    "b = Barrier(7)\n",
    "\n",
    "comment_thread = Thread(target=commentator)\n",
    "comment_thread.start()\n",
    "\n",
    "runner_threads = []\n",
    "\n",
    "for _ in range(7):\n",
    "    runner_thread = Thread(target=runner)\n",
    "    runner_threads.append(runner_thread)\n",
    "    runner_thread.start()\n",
    "    time.sleep(1)"
   ]
  },
  {
   "cell_type": "markdown",
   "metadata": {},
   "source": [
    "## Global interpreter lock (GIL)\n",
    "\n",
    "The mechanism used by the CPython interpreter to assure that only one thread executes Python bytecode at a time. This simplifies the CPython implementation by making the object model (including critical built-in types such as dict) implicitly safe against concurrent access. Locking the entire interpreter makes it easier for the interpreter to be multi-threaded, at the expense of much of the parallelism afforded by multi-processor machines.\n",
    "\n",
    "However, some extension modules, either standard or third-party, are designed so as to release the GIL when doing computationally-intensive tasks such as compression or hashing. Also, the GIL is always released when doing I/O.\n",
    "\n",
    "Past efforts to create a “free-threaded” interpreter (one which locks shared data at a much finer granularity) have not been successful because performance suffered in the common single-processor case. It is believed that overcoming this performance issue would make the implementation much more complicated and therefore costlier to maintain.\n",
    "\n"
   ]
  },
  {
   "cell_type": "code",
   "execution_count": 10,
   "metadata": {},
   "outputs": [
    {
     "data": {
      "text/plain": [
       "3"
      ]
     },
     "execution_count": 10,
     "metadata": {},
     "output_type": "execute_result"
    }
   ],
   "source": [
    "import sys\n",
    "\n",
    "a = []\n",
    "b = a\n",
    "sys.getrefcount(a)"
   ]
  },
  {
   "cell_type": "markdown",
   "metadata": {},
   "source": [
    "![GIL checkinterval](files/img/1.png)"
   ]
  },
  {
   "cell_type": "code",
   "execution_count": 21,
   "metadata": {},
   "outputs": [
    {
     "name": "stderr",
     "output_type": "stream",
     "text": [
      "/srv/conda/lib/python3.6/site-packages/ipykernel_launcher.py:1: DeprecationWarning: sys.getcheckinterval() and sys.setcheckinterval() are deprecated.  Use sys.getswitchinterval() instead.\n",
      "  \"\"\"Entry point for launching an IPython kernel.\n"
     ]
    },
    {
     "data": {
      "text/plain": [
       "100"
      ]
     },
     "execution_count": 21,
     "metadata": {},
     "output_type": "execute_result"
    }
   ],
   "source": [
    "sys.getcheckinterval()"
   ]
  },
  {
   "cell_type": "markdown",
   "metadata": {},
   "source": [
    "![GIL checkinterval](files/img/2.png)"
   ]
  },
  {
   "cell_type": "code",
   "execution_count": 20,
   "metadata": {},
   "outputs": [
    {
     "data": {
      "text/plain": [
       "0.005"
      ]
     },
     "execution_count": 20,
     "metadata": {},
     "output_type": "execute_result"
    }
   ],
   "source": [
    "sys.getswitchinterval()"
   ]
  },
  {
   "cell_type": "code",
   "execution_count": null,
   "metadata": {
    "collapsed": true
   },
   "outputs": [],
   "source": []
  }
 ],
 "metadata": {
  "anaconda-cloud": {},
  "kernelspec": {
   "display_name": "Python 3",
   "language": "python",
   "name": "python3"
  },
  "language_info": {
   "codemirror_mode": {
    "name": "ipython",
    "version": 3
   },
   "file_extension": ".py",
   "mimetype": "text/x-python",
   "name": "python",
   "nbconvert_exporter": "python",
   "pygments_lexer": "ipython3",
   "version": "3.6.5"
  }
 },
 "nbformat": 4,
 "nbformat_minor": 1
}
